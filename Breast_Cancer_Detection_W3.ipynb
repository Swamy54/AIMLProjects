{
 "cells": [
  {
   "cell_type": "code",
   "execution_count": 2,
   "metadata": {},
   "outputs": [],
   "source": [
    "#### 1. Gaussian distribution \n",
    "#### 2. Binomial distribution \n",
    "#### Differentiate between them. "
   ]
  },
  {
   "cell_type": "code",
   "execution_count": null,
   "metadata": {},
   "outputs": [],
   "source": [
    "Gaussian distribution:\n",
    "    \n",
    "\n",
    "    The Bernoulli distribution is the discrete probability distribution of a random variable which takes a binary, boolean output: 1 with probability p, and 0 with probability (1-p).\n",
    "The idea is that, whenever you are running an experiment which might lead either to a success or to a failure, you can associate with your success (labeled with 1) a probability p, while your insuccess (labeled with 0) will have probability (1-p).\n",
    "    \n",
    "    A sample of data will form a distribution, and by far the most well-known distribution is the Gaussian distribution, often called the Normal distribution.\n",
    "A Gaussian distribution can be described using two parameters:\n",
    "\n",
    "mean: Denoted with the Greek lowercase letter mu, is the expected value of the distribution.\n",
    "variance: Denoted with the Greek lowercase letter sigma raised to the second power (because the units of the variable are squared), describes the spread of observation from the mean.\n",
    "It is common to use a normalized calculation of the variance called the standard deviation\n",
    "\n",
    "standard deviation: Denoted with the Greek lowercase letter sigma, describes the normalized spread of observations from the mean.\n",
    "\n"
   ]
  },
  {
   "cell_type": "code",
   "execution_count": null,
   "metadata": {},
   "outputs": [],
   "source": [
    "2. Binomial distribution \n",
    "\n",
    "\n",
    "The binomial distribution is the distribution of the number of successes in a sequence of n repeated Bernoulli trials.\n",
    "Repeated Bernoulli trials mean that all trials are independent and each result have two possible outcomes.\n",
    "Random variable X represents the number of successes in n trials. \n",
    "\n",
    "4 requirements needed to be a binomial distribution:\n",
    "\n",
    "1: The number of observations n is fixed. \n",
    "2: Each observation is independent. \n",
    "3: Each observation represents one of two outcomes (\"success\" or \"failure\").\n",
    "4: The probability of \"success\" p is the same for each outcome\n",
    "    \n",
    "    \n",
    "    \n",
    "Binomial distribution is a probability distribution that is concerned with two possible outcomes.\n",
    "It is the sum of all successes in repeated independent trials conducted on an identical population. This distribution requires all of the following conditions:\n",
    "\n",
    "Each trial is independent of the others.\n",
    "There are only two possible outcomes in a trial: success or failure.\n",
    "A total number of n identical trials are performed.\n",
    "The probability of success and failure does not change across trials.\n",
    "\n",
    "\n",
    "The specific formula to calculate probability distribution using Binomial Distribution is: \n",
    "\n",
    "P (X = r ) = nCr (pˆr)* (1-p) * (n-r) \n",
    "\n",
    "Where: \n",
    "n : No. of trials \n",
    "r : No. of success \n",
    "p : the probability of success\n",
    "1 – p : Probability of failure\n",
    "nCr : binomial coefficient given by n/k(n-k)\n",
    "    "
   ]
  },
  {
   "cell_type": "code",
   "execution_count": null,
   "metadata": {},
   "outputs": [],
   "source": [
    "Difference"
   ]
  },
  {
   "cell_type": "code",
   "execution_count": null,
   "metadata": {},
   "outputs": [],
   "source": [
    "The main difference between normal distribution and binomial distribution is that while binomial distribution is discrete.\n",
    "\n",
    "This means that in binomial distribution there are no data points between any two data points. This is very different from a normal distribution which has continuous data points.\n",
    "In other words, there are a finite amount of events in a binomial distribution, but an infinite number in a normal distribution.\n",
    "\n",
    "Still, if the sample size for binomial distribution is large enough, its shape will be quite similar to that of normal distribution.\n",
    "\n",
    "\n",
    "For a classic example, if tossing a coin, the probability of landing on heads is p.\n",
    "The probability of getting tails is 1−p, with no other possible outcomes from the action.\n",
    "If you were betting on heads, your success after one coin toss would be called a Bernoulli random variable.\n",
    "While each toss gives you 50/50 Bernoulli odds, over the course of 10 rounds you could win anywhere from 0 to 10 times.\n",
    "Your win-rate binomial distribution would be the sum of those trials, with parameters n and p."
   ]
  }
 ],
 "metadata": {
  "kernelspec": {
   "display_name": "Python 3",
   "language": "python",
   "name": "python3"
  },
  "language_info": {
   "codemirror_mode": {
    "name": "ipython",
    "version": 3
   },
   "file_extension": ".py",
   "mimetype": "text/x-python",
   "name": "python",
   "nbconvert_exporter": "python",
   "pygments_lexer": "ipython3",
   "version": "3.7.4"
  }
 },
 "nbformat": 4,
 "nbformat_minor": 2
}
